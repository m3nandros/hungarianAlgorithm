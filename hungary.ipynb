{
 "cells": [
  {
   "metadata": {
    "ExecuteTime": {
     "end_time": "2024-11-29T10:51:00.436610Z",
     "start_time": "2024-11-29T10:51:00.405988Z"
    }
   },
   "cell_type": "code",
   "source": [
    "import numpy as np\n",
    "from scipy.optimize import linprog\n",
    "\n",
    "def hungarian_alg(cost_matrix):\n",
    "    n = cost_matrix.shape[0]\n",
    "\n",
    "    # Преобразуем задачу в задачу линейного программирования\n",
    "    # Целевая функция: минимизация суммы затрат\n",
    "    c = cost_matrix.flatten()\n",
    "\n",
    "    # Ограничения:\n",
    "    # 1. Каждому исполнителю назначена одна задача\n",
    "    A_eq = np.zeros((2*n, n*n))\n",
    "    b_eq = np.ones(2*n)\n",
    "\n",
    "    for i in range(n):\n",
    "        for j in range(n):\n",
    "            A_eq[i, i*n + j] = 1  # Строки: каждый исполнитель получает одну задачу\n",
    "            A_eq[n + j, i*n + j] = 1  # Столбцы: каждая задача назначается одному исполнителю\n",
    "\n",
    "    # Ограничения на бинарные переменные\n",
    "    bounds = [(0, 1) for _ in range(n * n)]\n",
    "\n",
    "    result = linprog(c, A_eq=A_eq, b_eq=b_eq, bounds=bounds, method='highs')\n",
    "\n",
    "    if result.success:\n",
    "        # Индексы назначений\n",
    "        assignments = np.unravel_index(np.round(result.x).astype(int), (n, n))\n",
    "        total_cost = result.fun\n",
    "        assignments = list(zip(assignments[0], assignments[1]))\n",
    "        return assignments, total_cost\n",
    "    else:\n",
    "        raise ValueError(\"Решение не найдено.\")\n",
    "\n",
    "# Пример использования\n",
    "cost_matrix = np.array([\n",
    "    [4, 2, 9],\n",
    "    [4, 3, 5],\n",
    "    [3, 1, 6]\n",
    "])\n",
    "\n",
    "assignments, total_cost = hungarian_alg(cost_matrix)\n",
    "print(\"Назначения:\", assignments)\n",
    "print(\"Минимальная стоимость:\", total_cost)"
   ],
   "id": "2273dc27f688f522",
   "outputs": [
    {
     "name": "stdout",
     "output_type": "stream",
     "text": [
      "Назначения: [(0, 0), (0, 1), (0, 0), (0, 0), (0, 0), (0, 1), (0, 1), (0, 0), (0, 0)]\n",
      "Минимальная стоимость: 10.0\n"
     ]
    }
   ],
   "execution_count": 10
  },
  {
   "metadata": {},
   "cell_type": "code",
   "outputs": [],
   "execution_count": null,
   "source": "",
   "id": "91586eeb809df8a1"
  }
 ],
 "metadata": {
  "kernelspec": {
   "display_name": "Python 3",
   "language": "python",
   "name": "python3"
  },
  "language_info": {
   "codemirror_mode": {
    "name": "ipython",
    "version": 2
   },
   "file_extension": ".py",
   "mimetype": "text/x-python",
   "name": "python",
   "nbconvert_exporter": "python",
   "pygments_lexer": "ipython2",
   "version": "2.7.6"
  }
 },
 "nbformat": 4,
 "nbformat_minor": 5
}
